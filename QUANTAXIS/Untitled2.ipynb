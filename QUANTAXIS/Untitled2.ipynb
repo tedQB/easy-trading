{
 "cells": [
  {
   "cell_type": "code",
   "execution_count": 1,
   "metadata": {},
   "outputs": [
    {
     "name": "stdout",
     "output_type": "stream",
     "text": [
      "1.2.62\n"
     ]
    }
   ],
   "source": [
    "import tushare\n",
    "\n",
    "print(tushare.__version__)"
   ]
  },
  {
   "cell_type": "code",
   "execution_count": 4,
   "metadata": {},
   "outputs": [
    {
     "name": "stdout",
     "output_type": "stream",
     "text": [
      "QA Error QA_fetch_stock_day_adv parameter code=000001 , start=2017-01-01, end=2017-10-01 call QA_fetch_stock_day return None\n"
     ]
    }
   ],
   "source": [
    "import QUANTAXIS as QA\n",
    "QA.QA_fetch_stock_day_adv('000001','2017-01-01','2017-10-01')\n"
   ]
  },
  {
   "cell_type": "code",
   "execution_count": 5,
   "metadata": {},
   "outputs": [
    {
     "name": "stdout",
     "output_type": "stream",
     "text": [
      "QA Error QA_fetch_stock_day_adv parameter code=['000001', '000002'] , start=2017-01-01, end=2017-10-01 call QA_fetch_stock_day return None\n"
     ]
    }
   ],
   "source": [
    "QA.QA_fetch_stock_day_adv(['000001','000002'],'2017-01-01','2017-10-01')"
   ]
  },
  {
   "cell_type": "code",
   "execution_count": 6,
   "metadata": {},
   "outputs": [
    {
     "name": "stdout",
     "output_type": "stream",
     "text": [
      "QA Error QA_fetch_stock_day_adv parameter code=['000001', '000002'] , start=2017-01-01, end=2017-10-01 call QA_fetch_stock_day return None\n"
     ]
    }
   ],
   "source": [
    "QA.QA_fetch_stock_day_adv(['000001','000002'],'2017-01-01','2017-10-01')"
   ]
  },
  {
   "cell_type": "code",
   "execution_count": 7,
   "metadata": {},
   "outputs": [
    {
     "name": "stdout",
     "output_type": "stream",
     "text": [
      "1.2.62\n"
     ]
    }
   ],
   "source": [
    "import tushare\n",
    "\n",
    "print(tushare.__version__)\n"
   ]
  },
  {
   "cell_type": "code",
   "execution_count": 8,
   "metadata": {},
   "outputs": [
    {
     "name": "stdout",
     "output_type": "stream",
     "text": [
      "QA Error QA_fetch_stock_day_adv parameter code=000001 , start=2017-01-01, end=2017-10-01 call QA_fetch_stock_day return None\n"
     ]
    }
   ],
   "source": [
    "import QUANTAXIS as QA\n",
    "QA.QA_fetch_stock_day_adv('000001','2017-01-01','2017-10-01')"
   ]
  },
  {
   "cell_type": "code",
   "execution_count": 9,
   "metadata": {},
   "outputs": [
    {
     "name": "stdout",
     "output_type": "stream",
     "text": [
      "QA Error QA_fetch_stock_day_adv parameter code=000001 , start=2017-01-01, end=2017-10-01 call QA_fetch_stock_day return None\n"
     ]
    }
   ],
   "source": [
    "import QUANTAXIS as QA\n",
    "QA.QA_fetch_stock_day_adv('000001','2017-01-01','2017-10-01')\n"
   ]
  },
  {
   "cell_type": "code",
   "execution_count": 10,
   "metadata": {},
   "outputs": [
    {
     "name": "stderr",
     "output_type": "stream",
     "text": [
      "QUANTAXIS>> Selecting the Best Server IP of TDX\n"
     ]
    },
    {
     "name": "stdout",
     "output_type": "stream",
     "text": [
      "USING DEFAULT STOCK IP\n",
      "USING DEFAULT FUTURE IP\n"
     ]
    },
    {
     "name": "stderr",
     "output_type": "stream",
     "text": [
      "QUANTAXIS>> === The BEST SERVER ===\n",
      " stock_ip 218.75.126.9 future_ip 59.175.238.38\n"
     ]
    },
    {
     "ename": "KeyError",
     "evalue": "\"None of ['code'] are in the columns\"",
     "output_type": "error",
     "traceback": [
      "\u001b[0;31m---------------------------------------------------------------------------\u001b[0m",
      "\u001b[0;31mKeyError\u001b[0m                                  Traceback (most recent call last)",
      "\u001b[0;32m<ipython-input-10-2ab4a29d9472>\u001b[0m in \u001b[0;36m<module>\u001b[0;34m()\u001b[0m\n\u001b[0;32m----> 1\u001b[0;31m \u001b[0mQA\u001b[0m\u001b[0;34m.\u001b[0m\u001b[0mQAFetch\u001b[0m\u001b[0;34m.\u001b[0m\u001b[0mQATdx\u001b[0m\u001b[0;34m.\u001b[0m\u001b[0mQA_fetch_get_future_day\u001b[0m\u001b[0;34m(\u001b[0m\u001b[0;34m'I2109'\u001b[0m\u001b[0;34m,\u001b[0m\u001b[0;34m'2021-05-23'\u001b[0m\u001b[0;34m,\u001b[0m\u001b[0;34m'2021-05-25'\u001b[0m\u001b[0;34m)\u001b[0m\u001b[0;34m\u001b[0m\u001b[0m\n\u001b[0m",
      "\u001b[0;32m/Users/chenshuai/quantaxis/QUANTAXIS/QAFetch/QATdx.py\u001b[0m in \u001b[0;36mQA_fetch_get_future_day\u001b[0;34m(code, start_date, end_date, frequence, ip, port)\u001b[0m\n\u001b[1;32m   2455\u001b[0m     \u001b[0;32mglobal\u001b[0m \u001b[0mextension_market_list\u001b[0m\u001b[0;34m\u001b[0m\u001b[0m\n\u001b[1;32m   2456\u001b[0m     extension_market_list = QA_fetch_get_extensionmarket_list(\n\u001b[0;32m-> 2457\u001b[0;31m     ) if extension_market_list is None else extension_market_list\n\u001b[0m\u001b[1;32m   2458\u001b[0m \u001b[0;34m\u001b[0m\u001b[0m\n\u001b[1;32m   2459\u001b[0m     \u001b[0;32mwith\u001b[0m \u001b[0mapix\u001b[0m\u001b[0;34m.\u001b[0m\u001b[0mconnect\u001b[0m\u001b[0;34m(\u001b[0m\u001b[0mip\u001b[0m\u001b[0;34m,\u001b[0m \u001b[0mport\u001b[0m\u001b[0;34m)\u001b[0m\u001b[0;34m:\u001b[0m\u001b[0;34m\u001b[0m\u001b[0m\n",
      "\u001b[0;32m/Users/chenshuai/quantaxis/QUANTAXIS/QAFetch/QATdx.py\u001b[0m in \u001b[0;36mQA_fetch_get_extensionmarket_list\u001b[0;34m(ip, port)\u001b[0m\n\u001b[1;32m   1513\u001b[0m             apix.get_instrument_info((int(num / 500) - i) * 500, 500))\n\u001b[1;32m   1514\u001b[0m             for i in range(int(num / 500) + 1)], axis=0, sort=False).set_index('code',\n\u001b[0;32m-> 1515\u001b[0;31m                                                                                drop=False)\n\u001b[0m\u001b[1;32m   1516\u001b[0m \u001b[0;34m\u001b[0m\u001b[0m\n\u001b[1;32m   1517\u001b[0m \u001b[0;34m\u001b[0m\u001b[0m\n",
      "\u001b[0;32m/Users/chenshuai/anaconda3/lib/python3.6/site-packages/pandas/core/frame.py\u001b[0m in \u001b[0;36mset_index\u001b[0;34m(self, keys, drop, append, inplace, verify_integrity)\u001b[0m\n\u001b[1;32m   4553\u001b[0m \u001b[0;34m\u001b[0m\u001b[0m\n\u001b[1;32m   4554\u001b[0m         \u001b[0;32mif\u001b[0m \u001b[0mmissing\u001b[0m\u001b[0;34m:\u001b[0m\u001b[0;34m\u001b[0m\u001b[0m\n\u001b[0;32m-> 4555\u001b[0;31m             \u001b[0;32mraise\u001b[0m \u001b[0mKeyError\u001b[0m\u001b[0;34m(\u001b[0m\u001b[0;34mf\"None of {missing} are in the columns\"\u001b[0m\u001b[0;34m)\u001b[0m\u001b[0;34m\u001b[0m\u001b[0m\n\u001b[0m\u001b[1;32m   4556\u001b[0m \u001b[0;34m\u001b[0m\u001b[0m\n\u001b[1;32m   4557\u001b[0m         \u001b[0;32mif\u001b[0m \u001b[0minplace\u001b[0m\u001b[0;34m:\u001b[0m\u001b[0;34m\u001b[0m\u001b[0m\n",
      "\u001b[0;31mKeyError\u001b[0m: \"None of ['code'] are in the columns\""
     ]
    }
   ],
   "source": [
    " QA.QAFetch.QATdx.QA_fetch_get_future_day('I2109','2021-05-23','2021-05-25') \n"
   ]
  },
  {
   "cell_type": "code",
   "execution_count": 11,
   "metadata": {},
   "outputs": [
    {
     "data": {
      "text/html": [
       "<div>\n",
       "<style scoped>\n",
       "    .dataframe tbody tr th:only-of-type {\n",
       "        vertical-align: middle;\n",
       "    }\n",
       "\n",
       "    .dataframe tbody tr th {\n",
       "        vertical-align: top;\n",
       "    }\n",
       "\n",
       "    .dataframe thead th {\n",
       "        text-align: right;\n",
       "    }\n",
       "</style>\n",
       "<table border=\"1\" class=\"dataframe\">\n",
       "  <thead>\n",
       "    <tr style=\"text-align: right;\">\n",
       "      <th></th>\n",
       "      <th>open</th>\n",
       "      <th>close</th>\n",
       "      <th>high</th>\n",
       "      <th>low</th>\n",
       "      <th>vol</th>\n",
       "      <th>amount</th>\n",
       "      <th>up_count</th>\n",
       "      <th>down_count</th>\n",
       "      <th>date</th>\n",
       "      <th>code</th>\n",
       "      <th>date_stamp</th>\n",
       "    </tr>\n",
       "    <tr>\n",
       "      <th>date</th>\n",
       "      <th></th>\n",
       "      <th></th>\n",
       "      <th></th>\n",
       "      <th></th>\n",
       "      <th></th>\n",
       "      <th></th>\n",
       "      <th></th>\n",
       "      <th></th>\n",
       "      <th></th>\n",
       "      <th></th>\n",
       "      <th></th>\n",
       "    </tr>\n",
       "  </thead>\n",
       "  <tbody>\n",
       "    <tr>\n",
       "      <th>2017-01-03</th>\n",
       "      <td>3105.31</td>\n",
       "      <td>3135.92</td>\n",
       "      <td>3136.46</td>\n",
       "      <td>3105.31</td>\n",
       "      <td>1415671.0</td>\n",
       "      <td>1.598871e+11</td>\n",
       "      <td>999</td>\n",
       "      <td>136</td>\n",
       "      <td>2017-01-03</td>\n",
       "      <td>000001</td>\n",
       "      <td>1.483373e+09</td>\n",
       "    </tr>\n",
       "    <tr>\n",
       "      <th>2017-01-04</th>\n",
       "      <td>3133.79</td>\n",
       "      <td>3158.79</td>\n",
       "      <td>3160.10</td>\n",
       "      <td>3130.11</td>\n",
       "      <td>1678608.0</td>\n",
       "      <td>1.959143e+11</td>\n",
       "      <td>956</td>\n",
       "      <td>170</td>\n",
       "      <td>2017-01-04</td>\n",
       "      <td>000001</td>\n",
       "      <td>1.483459e+09</td>\n",
       "    </tr>\n",
       "    <tr>\n",
       "      <th>2017-01-05</th>\n",
       "      <td>3157.91</td>\n",
       "      <td>3165.41</td>\n",
       "      <td>3168.50</td>\n",
       "      <td>3154.28</td>\n",
       "      <td>1747276.0</td>\n",
       "      <td>1.996920e+11</td>\n",
       "      <td>535</td>\n",
       "      <td>559</td>\n",
       "      <td>2017-01-05</td>\n",
       "      <td>000001</td>\n",
       "      <td>1.483546e+09</td>\n",
       "    </tr>\n",
       "    <tr>\n",
       "      <th>2017-01-06</th>\n",
       "      <td>3163.78</td>\n",
       "      <td>3154.32</td>\n",
       "      <td>3172.03</td>\n",
       "      <td>3153.03</td>\n",
       "      <td>1837089.0</td>\n",
       "      <td>2.072960e+11</td>\n",
       "      <td>372</td>\n",
       "      <td>748</td>\n",
       "      <td>2017-01-06</td>\n",
       "      <td>000001</td>\n",
       "      <td>1.483632e+09</td>\n",
       "    </tr>\n",
       "    <tr>\n",
       "      <th>2017-01-09</th>\n",
       "      <td>3148.53</td>\n",
       "      <td>3171.24</td>\n",
       "      <td>3173.14</td>\n",
       "      <td>3147.74</td>\n",
       "      <td>1717140.0</td>\n",
       "      <td>1.921106e+11</td>\n",
       "      <td>795</td>\n",
       "      <td>321</td>\n",
       "      <td>2017-01-09</td>\n",
       "      <td>000001</td>\n",
       "      <td>1.483891e+09</td>\n",
       "    </tr>\n",
       "    <tr>\n",
       "      <th>...</th>\n",
       "      <td>...</td>\n",
       "      <td>...</td>\n",
       "      <td>...</td>\n",
       "      <td>...</td>\n",
       "      <td>...</td>\n",
       "      <td>...</td>\n",
       "      <td>...</td>\n",
       "      <td>...</td>\n",
       "      <td>...</td>\n",
       "      <td>...</td>\n",
       "      <td>...</td>\n",
       "    </tr>\n",
       "    <tr>\n",
       "      <th>2017-08-28</th>\n",
       "      <td>3336.13</td>\n",
       "      <td>3362.65</td>\n",
       "      <td>3375.03</td>\n",
       "      <td>3336.13</td>\n",
       "      <td>2574614.0</td>\n",
       "      <td>3.053199e+11</td>\n",
       "      <td>1117</td>\n",
       "      <td>164</td>\n",
       "      <td>2017-08-28</td>\n",
       "      <td>000001</td>\n",
       "      <td>1.503850e+09</td>\n",
       "    </tr>\n",
       "    <tr>\n",
       "      <th>2017-08-29</th>\n",
       "      <td>3362.06</td>\n",
       "      <td>3365.23</td>\n",
       "      <td>3374.59</td>\n",
       "      <td>3354.46</td>\n",
       "      <td>2195045.0</td>\n",
       "      <td>2.689161e+11</td>\n",
       "      <td>541</td>\n",
       "      <td>716</td>\n",
       "      <td>2017-08-29</td>\n",
       "      <td>000001</td>\n",
       "      <td>1.503936e+09</td>\n",
       "    </tr>\n",
       "    <tr>\n",
       "      <th>2017-08-30</th>\n",
       "      <td>3361.82</td>\n",
       "      <td>3363.63</td>\n",
       "      <td>3376.65</td>\n",
       "      <td>3357.08</td>\n",
       "      <td>2468633.0</td>\n",
       "      <td>2.796408e+11</td>\n",
       "      <td>644</td>\n",
       "      <td>612</td>\n",
       "      <td>2017-08-30</td>\n",
       "      <td>000001</td>\n",
       "      <td>1.504022e+09</td>\n",
       "    </tr>\n",
       "    <tr>\n",
       "      <th>2017-08-31</th>\n",
       "      <td>3361.46</td>\n",
       "      <td>3360.81</td>\n",
       "      <td>3367.36</td>\n",
       "      <td>3340.69</td>\n",
       "      <td>2344197.0</td>\n",
       "      <td>2.691331e+11</td>\n",
       "      <td>742</td>\n",
       "      <td>509</td>\n",
       "      <td>2017-08-31</td>\n",
       "      <td>000001</td>\n",
       "      <td>1.504109e+09</td>\n",
       "    </tr>\n",
       "    <tr>\n",
       "      <th>2017-09-01</th>\n",
       "      <td>3365.99</td>\n",
       "      <td>3367.12</td>\n",
       "      <td>3381.93</td>\n",
       "      <td>3358.47</td>\n",
       "      <td>2824976.0</td>\n",
       "      <td>3.137221e+11</td>\n",
       "      <td>710</td>\n",
       "      <td>561</td>\n",
       "      <td>2017-09-01</td>\n",
       "      <td>000001</td>\n",
       "      <td>1.504195e+09</td>\n",
       "    </tr>\n",
       "  </tbody>\n",
       "</table>\n",
       "<p>164 rows × 11 columns</p>\n",
       "</div>"
      ],
      "text/plain": [
       "               open    close     high      low        vol        amount  \\\n",
       "date                                                                      \n",
       "2017-01-03  3105.31  3135.92  3136.46  3105.31  1415671.0  1.598871e+11   \n",
       "2017-01-04  3133.79  3158.79  3160.10  3130.11  1678608.0  1.959143e+11   \n",
       "2017-01-05  3157.91  3165.41  3168.50  3154.28  1747276.0  1.996920e+11   \n",
       "2017-01-06  3163.78  3154.32  3172.03  3153.03  1837089.0  2.072960e+11   \n",
       "2017-01-09  3148.53  3171.24  3173.14  3147.74  1717140.0  1.921106e+11   \n",
       "...             ...      ...      ...      ...        ...           ...   \n",
       "2017-08-28  3336.13  3362.65  3375.03  3336.13  2574614.0  3.053199e+11   \n",
       "2017-08-29  3362.06  3365.23  3374.59  3354.46  2195045.0  2.689161e+11   \n",
       "2017-08-30  3361.82  3363.63  3376.65  3357.08  2468633.0  2.796408e+11   \n",
       "2017-08-31  3361.46  3360.81  3367.36  3340.69  2344197.0  2.691331e+11   \n",
       "2017-09-01  3365.99  3367.12  3381.93  3358.47  2824976.0  3.137221e+11   \n",
       "\n",
       "            up_count  down_count        date    code    date_stamp  \n",
       "date                                                                \n",
       "2017-01-03       999         136  2017-01-03  000001  1.483373e+09  \n",
       "2017-01-04       956         170  2017-01-04  000001  1.483459e+09  \n",
       "2017-01-05       535         559  2017-01-05  000001  1.483546e+09  \n",
       "2017-01-06       372         748  2017-01-06  000001  1.483632e+09  \n",
       "2017-01-09       795         321  2017-01-09  000001  1.483891e+09  \n",
       "...              ...         ...         ...     ...           ...  \n",
       "2017-08-28      1117         164  2017-08-28  000001  1.503850e+09  \n",
       "2017-08-29       541         716  2017-08-29  000001  1.503936e+09  \n",
       "2017-08-30       644         612  2017-08-30  000001  1.504022e+09  \n",
       "2017-08-31       742         509  2017-08-31  000001  1.504109e+09  \n",
       "2017-09-01       710         561  2017-09-01  000001  1.504195e+09  \n",
       "\n",
       "[164 rows x 11 columns]"
      ]
     },
     "execution_count": 11,
     "metadata": {},
     "output_type": "execute_result"
    }
   ],
   "source": [
    "QA.QAFetch.QATdx.QA_fetch_get_index_day('000001','2017-01-01','2017-09-01')"
   ]
  },
  {
   "cell_type": "code",
   "execution_count": 12,
   "metadata": {},
   "outputs": [
    {
     "ename": "KeyError",
     "evalue": "\"None of ['code'] are in the columns\"",
     "output_type": "error",
     "traceback": [
      "\u001b[0;31m---------------------------------------------------------------------------\u001b[0m",
      "\u001b[0;31mKeyError\u001b[0m                                  Traceback (most recent call last)",
      "\u001b[0;32m<ipython-input-12-2ab4a29d9472>\u001b[0m in \u001b[0;36m<module>\u001b[0;34m()\u001b[0m\n\u001b[0;32m----> 1\u001b[0;31m \u001b[0mQA\u001b[0m\u001b[0;34m.\u001b[0m\u001b[0mQAFetch\u001b[0m\u001b[0;34m.\u001b[0m\u001b[0mQATdx\u001b[0m\u001b[0;34m.\u001b[0m\u001b[0mQA_fetch_get_future_day\u001b[0m\u001b[0;34m(\u001b[0m\u001b[0;34m'I2109'\u001b[0m\u001b[0;34m,\u001b[0m\u001b[0;34m'2021-05-23'\u001b[0m\u001b[0;34m,\u001b[0m\u001b[0;34m'2021-05-25'\u001b[0m\u001b[0;34m)\u001b[0m\u001b[0;34m\u001b[0m\u001b[0m\n\u001b[0m",
      "\u001b[0;32m/Users/chenshuai/quantaxis/QUANTAXIS/QAFetch/QATdx.py\u001b[0m in \u001b[0;36mQA_fetch_get_future_day\u001b[0;34m(code, start_date, end_date, frequence, ip, port)\u001b[0m\n\u001b[1;32m   2455\u001b[0m     \u001b[0;32mglobal\u001b[0m \u001b[0mextension_market_list\u001b[0m\u001b[0;34m\u001b[0m\u001b[0m\n\u001b[1;32m   2456\u001b[0m     extension_market_list = QA_fetch_get_extensionmarket_list(\n\u001b[0;32m-> 2457\u001b[0;31m     ) if extension_market_list is None else extension_market_list\n\u001b[0m\u001b[1;32m   2458\u001b[0m \u001b[0;34m\u001b[0m\u001b[0m\n\u001b[1;32m   2459\u001b[0m     \u001b[0;32mwith\u001b[0m \u001b[0mapix\u001b[0m\u001b[0;34m.\u001b[0m\u001b[0mconnect\u001b[0m\u001b[0;34m(\u001b[0m\u001b[0mip\u001b[0m\u001b[0;34m,\u001b[0m \u001b[0mport\u001b[0m\u001b[0;34m)\u001b[0m\u001b[0;34m:\u001b[0m\u001b[0;34m\u001b[0m\u001b[0m\n",
      "\u001b[0;32m/Users/chenshuai/quantaxis/QUANTAXIS/QAFetch/QATdx.py\u001b[0m in \u001b[0;36mQA_fetch_get_extensionmarket_list\u001b[0;34m(ip, port)\u001b[0m\n\u001b[1;32m   1513\u001b[0m             apix.get_instrument_info((int(num / 500) - i) * 500, 500))\n\u001b[1;32m   1514\u001b[0m             for i in range(int(num / 500) + 1)], axis=0, sort=False).set_index('code',\n\u001b[0;32m-> 1515\u001b[0;31m                                                                                drop=False)\n\u001b[0m\u001b[1;32m   1516\u001b[0m \u001b[0;34m\u001b[0m\u001b[0m\n\u001b[1;32m   1517\u001b[0m \u001b[0;34m\u001b[0m\u001b[0m\n",
      "\u001b[0;32m/Users/chenshuai/anaconda3/lib/python3.6/site-packages/pandas/core/frame.py\u001b[0m in \u001b[0;36mset_index\u001b[0;34m(self, keys, drop, append, inplace, verify_integrity)\u001b[0m\n\u001b[1;32m   4553\u001b[0m \u001b[0;34m\u001b[0m\u001b[0m\n\u001b[1;32m   4554\u001b[0m         \u001b[0;32mif\u001b[0m \u001b[0mmissing\u001b[0m\u001b[0;34m:\u001b[0m\u001b[0;34m\u001b[0m\u001b[0m\n\u001b[0;32m-> 4555\u001b[0;31m             \u001b[0;32mraise\u001b[0m \u001b[0mKeyError\u001b[0m\u001b[0;34m(\u001b[0m\u001b[0;34mf\"None of {missing} are in the columns\"\u001b[0m\u001b[0;34m)\u001b[0m\u001b[0;34m\u001b[0m\u001b[0m\n\u001b[0m\u001b[1;32m   4556\u001b[0m \u001b[0;34m\u001b[0m\u001b[0m\n\u001b[1;32m   4557\u001b[0m         \u001b[0;32mif\u001b[0m \u001b[0minplace\u001b[0m\u001b[0;34m:\u001b[0m\u001b[0;34m\u001b[0m\u001b[0m\n",
      "\u001b[0;31mKeyError\u001b[0m: \"None of ['code'] are in the columns\""
     ]
    }
   ],
   "source": [
    "QA.QAFetch.QATdx.QA_fetch_get_future_day('I2109','2021-05-23','2021-05-25') "
   ]
  },
  {
   "cell_type": "code",
   "execution_count": 13,
   "metadata": {},
   "outputs": [
    {
     "ename": "KeyError",
     "evalue": "\"None of ['code'] are in the columns\"",
     "output_type": "error",
     "traceback": [
      "\u001b[0;31m---------------------------------------------------------------------------\u001b[0m",
      "\u001b[0;31mKeyError\u001b[0m                                  Traceback (most recent call last)",
      "\u001b[0;32m<ipython-input-13-db905b795f5b>\u001b[0m in \u001b[0;36m<module>\u001b[0;34m()\u001b[0m\n\u001b[0;32m----> 1\u001b[0;31m \u001b[0mQA\u001b[0m\u001b[0;34m.\u001b[0m\u001b[0mQAFetch\u001b[0m\u001b[0;34m.\u001b[0m\u001b[0mQATdx\u001b[0m\u001b[0;34m.\u001b[0m\u001b[0mQA_fetch_get_future_day\u001b[0m\u001b[0;34m(\u001b[0m\u001b[0;34m'i2109'\u001b[0m\u001b[0;34m,\u001b[0m\u001b[0;34m'2021-05-23'\u001b[0m\u001b[0;34m,\u001b[0m\u001b[0;34m'2021-05-25'\u001b[0m\u001b[0;34m)\u001b[0m\u001b[0;34m\u001b[0m\u001b[0m\n\u001b[0m",
      "\u001b[0;32m/Users/chenshuai/quantaxis/QUANTAXIS/QAFetch/QATdx.py\u001b[0m in \u001b[0;36mQA_fetch_get_future_day\u001b[0;34m(code, start_date, end_date, frequence, ip, port)\u001b[0m\n\u001b[1;32m   2455\u001b[0m     \u001b[0;32mglobal\u001b[0m \u001b[0mextension_market_list\u001b[0m\u001b[0;34m\u001b[0m\u001b[0m\n\u001b[1;32m   2456\u001b[0m     extension_market_list = QA_fetch_get_extensionmarket_list(\n\u001b[0;32m-> 2457\u001b[0;31m     ) if extension_market_list is None else extension_market_list\n\u001b[0m\u001b[1;32m   2458\u001b[0m \u001b[0;34m\u001b[0m\u001b[0m\n\u001b[1;32m   2459\u001b[0m     \u001b[0;32mwith\u001b[0m \u001b[0mapix\u001b[0m\u001b[0;34m.\u001b[0m\u001b[0mconnect\u001b[0m\u001b[0;34m(\u001b[0m\u001b[0mip\u001b[0m\u001b[0;34m,\u001b[0m \u001b[0mport\u001b[0m\u001b[0;34m)\u001b[0m\u001b[0;34m:\u001b[0m\u001b[0;34m\u001b[0m\u001b[0m\n",
      "\u001b[0;32m/Users/chenshuai/quantaxis/QUANTAXIS/QAFetch/QATdx.py\u001b[0m in \u001b[0;36mQA_fetch_get_extensionmarket_list\u001b[0;34m(ip, port)\u001b[0m\n\u001b[1;32m   1513\u001b[0m             apix.get_instrument_info((int(num / 500) - i) * 500, 500))\n\u001b[1;32m   1514\u001b[0m             for i in range(int(num / 500) + 1)], axis=0, sort=False).set_index('code',\n\u001b[0;32m-> 1515\u001b[0;31m                                                                                drop=False)\n\u001b[0m\u001b[1;32m   1516\u001b[0m \u001b[0;34m\u001b[0m\u001b[0m\n\u001b[1;32m   1517\u001b[0m \u001b[0;34m\u001b[0m\u001b[0m\n",
      "\u001b[0;32m/Users/chenshuai/anaconda3/lib/python3.6/site-packages/pandas/core/frame.py\u001b[0m in \u001b[0;36mset_index\u001b[0;34m(self, keys, drop, append, inplace, verify_integrity)\u001b[0m\n\u001b[1;32m   4553\u001b[0m \u001b[0;34m\u001b[0m\u001b[0m\n\u001b[1;32m   4554\u001b[0m         \u001b[0;32mif\u001b[0m \u001b[0mmissing\u001b[0m\u001b[0;34m:\u001b[0m\u001b[0;34m\u001b[0m\u001b[0m\n\u001b[0;32m-> 4555\u001b[0;31m             \u001b[0;32mraise\u001b[0m \u001b[0mKeyError\u001b[0m\u001b[0;34m(\u001b[0m\u001b[0;34mf\"None of {missing} are in the columns\"\u001b[0m\u001b[0;34m)\u001b[0m\u001b[0;34m\u001b[0m\u001b[0m\n\u001b[0m\u001b[1;32m   4556\u001b[0m \u001b[0;34m\u001b[0m\u001b[0m\n\u001b[1;32m   4557\u001b[0m         \u001b[0;32mif\u001b[0m \u001b[0minplace\u001b[0m\u001b[0;34m:\u001b[0m\u001b[0;34m\u001b[0m\u001b[0m\n",
      "\u001b[0;31mKeyError\u001b[0m: \"None of ['code'] are in the columns\""
     ]
    }
   ],
   "source": [
    "QA.QAFetch.QATdx.QA_fetch_get_future_day('i2109','2021-05-23','2021-05-25') "
   ]
  },
  {
   "cell_type": "code",
   "execution_count": 14,
   "metadata": {},
   "outputs": [
    {
     "ename": "KeyError",
     "evalue": "\"None of ['code'] are in the columns\"",
     "output_type": "error",
     "traceback": [
      "\u001b[0;31m---------------------------------------------------------------------------\u001b[0m",
      "\u001b[0;31mKeyError\u001b[0m                                  Traceback (most recent call last)",
      "\u001b[0;32m<ipython-input-14-03945b4bbeef>\u001b[0m in \u001b[0;36m<module>\u001b[0;34m()\u001b[0m\n\u001b[0;32m----> 1\u001b[0;31m \u001b[0mQA\u001b[0m\u001b[0;34m.\u001b[0m\u001b[0mQAFetch\u001b[0m\u001b[0;34m.\u001b[0m\u001b[0mQATdx\u001b[0m\u001b[0;34m.\u001b[0m\u001b[0mQA_fetch_get_future_day\u001b[0m\u001b[0;34m(\u001b[0m\u001b[0;34m'rb2110'\u001b[0m\u001b[0;34m,\u001b[0m\u001b[0;34m'2021-05-23'\u001b[0m\u001b[0;34m,\u001b[0m\u001b[0;34m'2021-05-25'\u001b[0m\u001b[0;34m)\u001b[0m\u001b[0;34m\u001b[0m\u001b[0m\n\u001b[0m",
      "\u001b[0;32m/Users/chenshuai/quantaxis/QUANTAXIS/QAFetch/QATdx.py\u001b[0m in \u001b[0;36mQA_fetch_get_future_day\u001b[0;34m(code, start_date, end_date, frequence, ip, port)\u001b[0m\n\u001b[1;32m   2455\u001b[0m     \u001b[0;32mglobal\u001b[0m \u001b[0mextension_market_list\u001b[0m\u001b[0;34m\u001b[0m\u001b[0m\n\u001b[1;32m   2456\u001b[0m     extension_market_list = QA_fetch_get_extensionmarket_list(\n\u001b[0;32m-> 2457\u001b[0;31m     ) if extension_market_list is None else extension_market_list\n\u001b[0m\u001b[1;32m   2458\u001b[0m \u001b[0;34m\u001b[0m\u001b[0m\n\u001b[1;32m   2459\u001b[0m     \u001b[0;32mwith\u001b[0m \u001b[0mapix\u001b[0m\u001b[0;34m.\u001b[0m\u001b[0mconnect\u001b[0m\u001b[0;34m(\u001b[0m\u001b[0mip\u001b[0m\u001b[0;34m,\u001b[0m \u001b[0mport\u001b[0m\u001b[0;34m)\u001b[0m\u001b[0;34m:\u001b[0m\u001b[0;34m\u001b[0m\u001b[0m\n",
      "\u001b[0;32m/Users/chenshuai/quantaxis/QUANTAXIS/QAFetch/QATdx.py\u001b[0m in \u001b[0;36mQA_fetch_get_extensionmarket_list\u001b[0;34m(ip, port)\u001b[0m\n\u001b[1;32m   1513\u001b[0m             apix.get_instrument_info((int(num / 500) - i) * 500, 500))\n\u001b[1;32m   1514\u001b[0m             for i in range(int(num / 500) + 1)], axis=0, sort=False).set_index('code',\n\u001b[0;32m-> 1515\u001b[0;31m                                                                                drop=False)\n\u001b[0m\u001b[1;32m   1516\u001b[0m \u001b[0;34m\u001b[0m\u001b[0m\n\u001b[1;32m   1517\u001b[0m \u001b[0;34m\u001b[0m\u001b[0m\n",
      "\u001b[0;32m/Users/chenshuai/anaconda3/lib/python3.6/site-packages/pandas/core/frame.py\u001b[0m in \u001b[0;36mset_index\u001b[0;34m(self, keys, drop, append, inplace, verify_integrity)\u001b[0m\n\u001b[1;32m   4553\u001b[0m \u001b[0;34m\u001b[0m\u001b[0m\n\u001b[1;32m   4554\u001b[0m         \u001b[0;32mif\u001b[0m \u001b[0mmissing\u001b[0m\u001b[0;34m:\u001b[0m\u001b[0;34m\u001b[0m\u001b[0m\n\u001b[0;32m-> 4555\u001b[0;31m             \u001b[0;32mraise\u001b[0m \u001b[0mKeyError\u001b[0m\u001b[0;34m(\u001b[0m\u001b[0;34mf\"None of {missing} are in the columns\"\u001b[0m\u001b[0;34m)\u001b[0m\u001b[0;34m\u001b[0m\u001b[0m\n\u001b[0m\u001b[1;32m   4556\u001b[0m \u001b[0;34m\u001b[0m\u001b[0m\n\u001b[1;32m   4557\u001b[0m         \u001b[0;32mif\u001b[0m \u001b[0minplace\u001b[0m\u001b[0;34m:\u001b[0m\u001b[0;34m\u001b[0m\u001b[0m\n",
      "\u001b[0;31mKeyError\u001b[0m: \"None of ['code'] are in the columns\""
     ]
    }
   ],
   "source": [
    "QA.QAFetch.QATdx.QA_fetch_get_future_day('rb2110','2021-05-23','2021-05-25') "
   ]
  },
  {
   "cell_type": "code",
   "execution_count": 15,
   "metadata": {},
   "outputs": [
    {
     "ename": "KeyError",
     "evalue": "\"None of ['code'] are in the columns\"",
     "output_type": "error",
     "traceback": [
      "\u001b[0;31m---------------------------------------------------------------------------\u001b[0m",
      "\u001b[0;31mKeyError\u001b[0m                                  Traceback (most recent call last)",
      "\u001b[0;32m<ipython-input-15-994ea20623d5>\u001b[0m in \u001b[0;36m<module>\u001b[0;34m()\u001b[0m\n\u001b[0;32m----> 1\u001b[0;31m \u001b[0mQA\u001b[0m\u001b[0;34m.\u001b[0m\u001b[0mQAFetch\u001b[0m\u001b[0;34m.\u001b[0m\u001b[0mQATdx\u001b[0m\u001b[0;34m.\u001b[0m\u001b[0mQA_fetch_get_future_day\u001b[0m\u001b[0;34m(\u001b[0m\u001b[0;34m'RB2110'\u001b[0m\u001b[0;34m,\u001b[0m\u001b[0;34m'2021-05-23'\u001b[0m\u001b[0;34m,\u001b[0m\u001b[0;34m'2021-05-28'\u001b[0m\u001b[0;34m)\u001b[0m\u001b[0;34m\u001b[0m\u001b[0m\n\u001b[0m",
      "\u001b[0;32m/Users/chenshuai/quantaxis/QUANTAXIS/QAFetch/QATdx.py\u001b[0m in \u001b[0;36mQA_fetch_get_future_day\u001b[0;34m(code, start_date, end_date, frequence, ip, port)\u001b[0m\n\u001b[1;32m   2455\u001b[0m     \u001b[0;32mglobal\u001b[0m \u001b[0mextension_market_list\u001b[0m\u001b[0;34m\u001b[0m\u001b[0m\n\u001b[1;32m   2456\u001b[0m     extension_market_list = QA_fetch_get_extensionmarket_list(\n\u001b[0;32m-> 2457\u001b[0;31m     ) if extension_market_list is None else extension_market_list\n\u001b[0m\u001b[1;32m   2458\u001b[0m \u001b[0;34m\u001b[0m\u001b[0m\n\u001b[1;32m   2459\u001b[0m     \u001b[0;32mwith\u001b[0m \u001b[0mapix\u001b[0m\u001b[0;34m.\u001b[0m\u001b[0mconnect\u001b[0m\u001b[0;34m(\u001b[0m\u001b[0mip\u001b[0m\u001b[0;34m,\u001b[0m \u001b[0mport\u001b[0m\u001b[0;34m)\u001b[0m\u001b[0;34m:\u001b[0m\u001b[0;34m\u001b[0m\u001b[0m\n",
      "\u001b[0;32m/Users/chenshuai/quantaxis/QUANTAXIS/QAFetch/QATdx.py\u001b[0m in \u001b[0;36mQA_fetch_get_extensionmarket_list\u001b[0;34m(ip, port)\u001b[0m\n\u001b[1;32m   1513\u001b[0m             apix.get_instrument_info((int(num / 500) - i) * 500, 500))\n\u001b[1;32m   1514\u001b[0m             for i in range(int(num / 500) + 1)], axis=0, sort=False).set_index('code',\n\u001b[0;32m-> 1515\u001b[0;31m                                                                                drop=False)\n\u001b[0m\u001b[1;32m   1516\u001b[0m \u001b[0;34m\u001b[0m\u001b[0m\n\u001b[1;32m   1517\u001b[0m \u001b[0;34m\u001b[0m\u001b[0m\n",
      "\u001b[0;32m/Users/chenshuai/anaconda3/lib/python3.6/site-packages/pandas/core/frame.py\u001b[0m in \u001b[0;36mset_index\u001b[0;34m(self, keys, drop, append, inplace, verify_integrity)\u001b[0m\n\u001b[1;32m   4553\u001b[0m \u001b[0;34m\u001b[0m\u001b[0m\n\u001b[1;32m   4554\u001b[0m         \u001b[0;32mif\u001b[0m \u001b[0mmissing\u001b[0m\u001b[0;34m:\u001b[0m\u001b[0;34m\u001b[0m\u001b[0m\n\u001b[0;32m-> 4555\u001b[0;31m             \u001b[0;32mraise\u001b[0m \u001b[0mKeyError\u001b[0m\u001b[0;34m(\u001b[0m\u001b[0;34mf\"None of {missing} are in the columns\"\u001b[0m\u001b[0;34m)\u001b[0m\u001b[0;34m\u001b[0m\u001b[0m\n\u001b[0m\u001b[1;32m   4556\u001b[0m \u001b[0;34m\u001b[0m\u001b[0m\n\u001b[1;32m   4557\u001b[0m         \u001b[0;32mif\u001b[0m \u001b[0minplace\u001b[0m\u001b[0;34m:\u001b[0m\u001b[0;34m\u001b[0m\u001b[0m\n",
      "\u001b[0;31mKeyError\u001b[0m: \"None of ['code'] are in the columns\""
     ]
    }
   ],
   "source": [
    "QA.QAFetch.QATdx.QA_fetch_get_future_day('RB2110','2021-05-23','2021-05-28') "
   ]
  },
  {
   "cell_type": "code",
   "execution_count": 58,
   "metadata": {},
   "outputs": [
    {
     "ename": "KeyError",
     "evalue": "\"None of ['code'] are in the columns\"",
     "output_type": "error",
     "traceback": [
      "\u001b[0;31m---------------------------------------------------------------------------\u001b[0m",
      "\u001b[0;31mKeyError\u001b[0m                                  Traceback (most recent call last)",
      "\u001b[0;32m<ipython-input-58-02c74e0976d4>\u001b[0m in \u001b[0;36m<module>\u001b[0;34m()\u001b[0m\n\u001b[0;32m----> 1\u001b[0;31m \u001b[0mQA\u001b[0m\u001b[0;34m.\u001b[0m\u001b[0mQAFetch\u001b[0m\u001b[0;34m.\u001b[0m\u001b[0mQATdx\u001b[0m\u001b[0;34m.\u001b[0m\u001b[0mQA_fetch_get_future_min\u001b[0m\u001b[0;34m(\u001b[0m\u001b[0;34m'RB1905'\u001b[0m\u001b[0;34m,\u001b[0m\u001b[0;34m'2019-01-01'\u001b[0m\u001b[0;34m,\u001b[0m\u001b[0;34m'2019-01-30'\u001b[0m\u001b[0;34m,\u001b[0m \u001b[0;34m'5min'\u001b[0m\u001b[0;34m)\u001b[0m\u001b[0;34m\u001b[0m\u001b[0m\n\u001b[0m",
      "\u001b[0;32m/Users/chenshuai/quantaxis/QUANTAXIS/QAFetch/QATdx.py\u001b[0m in \u001b[0;36mQA_fetch_get_future_min\u001b[0;34m(code, start, end, frequence, ip, port)\u001b[0m\n\u001b[1;32m   2502\u001b[0m     \u001b[0;32mglobal\u001b[0m \u001b[0mextension_market_list\u001b[0m\u001b[0;34m\u001b[0m\u001b[0m\n\u001b[1;32m   2503\u001b[0m     extension_market_list = QA_fetch_get_extensionmarket_list(\n\u001b[0;32m-> 2504\u001b[0;31m     ) if extension_market_list is None else extension_market_list\n\u001b[0m\u001b[1;32m   2505\u001b[0m \u001b[0;34m\u001b[0m\u001b[0m\n\u001b[1;32m   2506\u001b[0m     \u001b[0;32mif\u001b[0m \u001b[0mstr\u001b[0m\u001b[0;34m(\u001b[0m\u001b[0mfrequence\u001b[0m\u001b[0;34m)\u001b[0m \u001b[0;32min\u001b[0m \u001b[0;34m[\u001b[0m\u001b[0;34m'5'\u001b[0m\u001b[0;34m,\u001b[0m \u001b[0;34m'5m'\u001b[0m\u001b[0;34m,\u001b[0m \u001b[0;34m'5min'\u001b[0m\u001b[0;34m,\u001b[0m \u001b[0;34m'five'\u001b[0m\u001b[0;34m]\u001b[0m\u001b[0;34m:\u001b[0m\u001b[0;34m\u001b[0m\u001b[0m\n",
      "\u001b[0;32m/Users/chenshuai/quantaxis/QUANTAXIS/QAFetch/QATdx.py\u001b[0m in \u001b[0;36mQA_fetch_get_extensionmarket_list\u001b[0;34m(ip, port)\u001b[0m\n\u001b[1;32m   1513\u001b[0m             apix.get_instrument_info((int(num / 500) - i) * 500, 500))\n\u001b[1;32m   1514\u001b[0m             for i in range(int(num / 500) + 1)], axis=0, sort=False).set_index('code',\n\u001b[0;32m-> 1515\u001b[0;31m                                                                                drop=False)\n\u001b[0m\u001b[1;32m   1516\u001b[0m \u001b[0;34m\u001b[0m\u001b[0m\n\u001b[1;32m   1517\u001b[0m \u001b[0;34m\u001b[0m\u001b[0m\n",
      "\u001b[0;32m/Users/chenshuai/anaconda3/lib/python3.6/site-packages/pandas/core/frame.py\u001b[0m in \u001b[0;36mset_index\u001b[0;34m(self, keys, drop, append, inplace, verify_integrity)\u001b[0m\n\u001b[1;32m   4553\u001b[0m \u001b[0;34m\u001b[0m\u001b[0m\n\u001b[1;32m   4554\u001b[0m         \u001b[0;32mif\u001b[0m \u001b[0mmissing\u001b[0m\u001b[0;34m:\u001b[0m\u001b[0;34m\u001b[0m\u001b[0m\n\u001b[0;32m-> 4555\u001b[0;31m             \u001b[0;32mraise\u001b[0m \u001b[0mKeyError\u001b[0m\u001b[0;34m(\u001b[0m\u001b[0;34mf\"None of {missing} are in the columns\"\u001b[0m\u001b[0;34m)\u001b[0m\u001b[0;34m\u001b[0m\u001b[0m\n\u001b[0m\u001b[1;32m   4556\u001b[0m \u001b[0;34m\u001b[0m\u001b[0m\n\u001b[1;32m   4557\u001b[0m         \u001b[0;32mif\u001b[0m \u001b[0minplace\u001b[0m\u001b[0;34m:\u001b[0m\u001b[0;34m\u001b[0m\u001b[0m\n",
      "\u001b[0;31mKeyError\u001b[0m: \"None of ['code'] are in the columns\""
     ]
    }
   ],
   "source": [
    "QA.QAFetch.QATdx.QA_fetch_get_future_min('RB1905','2019-01-01','2019-01-30', '5min')"
   ]
  },
  {
   "cell_type": "code",
   "execution_count": 52,
   "metadata": {},
   "outputs": [
    {
     "ename": "KeyError",
     "evalue": "\"None of ['code'] are in the columns\"",
     "output_type": "error",
     "traceback": [
      "\u001b[0;31m---------------------------------------------------------------------------\u001b[0m",
      "\u001b[0;31mKeyError\u001b[0m                                  Traceback (most recent call last)",
      "\u001b[0;32m<ipython-input-52-826806ec4d8b>\u001b[0m in \u001b[0;36m<module>\u001b[0;34m()\u001b[0m\n\u001b[0;32m----> 1\u001b[0;31m \u001b[0mQA\u001b[0m\u001b[0;34m.\u001b[0m\u001b[0mQAFetch\u001b[0m\u001b[0;34m.\u001b[0m\u001b[0mQATdx\u001b[0m\u001b[0;34m.\u001b[0m\u001b[0mQA_fetch_get_future_min\u001b[0m\u001b[0;34m(\u001b[0m\u001b[0;34m'RB1905'\u001b[0m\u001b[0;34m,\u001b[0m\u001b[0;34m'2019-01-01'\u001b[0m\u001b[0;34m,\u001b[0m\u001b[0;34m'2019-01-30'\u001b[0m\u001b[0;34m,\u001b[0m \u001b[0;34m'5'\u001b[0m\u001b[0;34m)\u001b[0m\u001b[0;34m\u001b[0m\u001b[0m\n\u001b[0m",
      "\u001b[0;32m/Users/chenshuai/quantaxis/QUANTAXIS/QAFetch/QATdx.py\u001b[0m in \u001b[0;36mQA_fetch_get_future_min\u001b[0;34m(code, start, end, frequence, ip, port)\u001b[0m\n\u001b[1;32m   2502\u001b[0m     \u001b[0;32mglobal\u001b[0m \u001b[0mextension_market_list\u001b[0m\u001b[0;34m\u001b[0m\u001b[0m\n\u001b[1;32m   2503\u001b[0m     extension_market_list = QA_fetch_get_extensionmarket_list(\n\u001b[0;32m-> 2504\u001b[0;31m     ) if extension_market_list is None else extension_market_list\n\u001b[0m\u001b[1;32m   2505\u001b[0m \u001b[0;34m\u001b[0m\u001b[0m\n\u001b[1;32m   2506\u001b[0m     \u001b[0;32mif\u001b[0m \u001b[0mstr\u001b[0m\u001b[0;34m(\u001b[0m\u001b[0mfrequence\u001b[0m\u001b[0;34m)\u001b[0m \u001b[0;32min\u001b[0m \u001b[0;34m[\u001b[0m\u001b[0;34m'5'\u001b[0m\u001b[0;34m,\u001b[0m \u001b[0;34m'5m'\u001b[0m\u001b[0;34m,\u001b[0m \u001b[0;34m'5min'\u001b[0m\u001b[0;34m,\u001b[0m \u001b[0;34m'five'\u001b[0m\u001b[0;34m]\u001b[0m\u001b[0;34m:\u001b[0m\u001b[0;34m\u001b[0m\u001b[0m\n",
      "\u001b[0;32m/Users/chenshuai/quantaxis/QUANTAXIS/QAFetch/QATdx.py\u001b[0m in \u001b[0;36mQA_fetch_get_extensionmarket_list\u001b[0;34m(ip, port)\u001b[0m\n\u001b[1;32m   1513\u001b[0m             apix.get_instrument_info((int(num / 500) - i) * 500, 500))\n\u001b[1;32m   1514\u001b[0m             for i in range(int(num / 500) + 1)], axis=0, sort=False).set_index('code',\n\u001b[0;32m-> 1515\u001b[0;31m                                                                                drop=False)\n\u001b[0m\u001b[1;32m   1516\u001b[0m \u001b[0;34m\u001b[0m\u001b[0m\n\u001b[1;32m   1517\u001b[0m \u001b[0;34m\u001b[0m\u001b[0m\n",
      "\u001b[0;32m/Users/chenshuai/anaconda3/lib/python3.6/site-packages/pandas/core/frame.py\u001b[0m in \u001b[0;36mset_index\u001b[0;34m(self, keys, drop, append, inplace, verify_integrity)\u001b[0m\n\u001b[1;32m   4553\u001b[0m \u001b[0;34m\u001b[0m\u001b[0m\n\u001b[1;32m   4554\u001b[0m         \u001b[0;32mif\u001b[0m \u001b[0mmissing\u001b[0m\u001b[0;34m:\u001b[0m\u001b[0;34m\u001b[0m\u001b[0m\n\u001b[0;32m-> 4555\u001b[0;31m             \u001b[0;32mraise\u001b[0m \u001b[0mKeyError\u001b[0m\u001b[0;34m(\u001b[0m\u001b[0;34mf\"None of {missing} are in the columns\"\u001b[0m\u001b[0;34m)\u001b[0m\u001b[0;34m\u001b[0m\u001b[0m\n\u001b[0m\u001b[1;32m   4556\u001b[0m \u001b[0;34m\u001b[0m\u001b[0m\n\u001b[1;32m   4557\u001b[0m         \u001b[0;32mif\u001b[0m \u001b[0minplace\u001b[0m\u001b[0;34m:\u001b[0m\u001b[0;34m\u001b[0m\u001b[0m\n",
      "\u001b[0;31mKeyError\u001b[0m: \"None of ['code'] are in the columns\""
     ]
    }
   ],
   "source": [
    "QA.QAFetch.QATdx.QA_fetch_get_future_min('RB1905','2019-01-01','2019-01-30', '5')"
   ]
  },
  {
   "cell_type": "code",
   "execution_count": 57,
   "metadata": {},
   "outputs": [
    {
     "ename": "KeyError",
     "evalue": "\"None of ['code'] are in the columns\"",
     "output_type": "error",
     "traceback": [
      "\u001b[0;31m---------------------------------------------------------------------------\u001b[0m",
      "\u001b[0;31mKeyError\u001b[0m                                  Traceback (most recent call last)",
      "\u001b[0;32m<ipython-input-57-826806ec4d8b>\u001b[0m in \u001b[0;36m<module>\u001b[0;34m()\u001b[0m\n\u001b[0;32m----> 1\u001b[0;31m \u001b[0mQA\u001b[0m\u001b[0;34m.\u001b[0m\u001b[0mQAFetch\u001b[0m\u001b[0;34m.\u001b[0m\u001b[0mQATdx\u001b[0m\u001b[0;34m.\u001b[0m\u001b[0mQA_fetch_get_future_min\u001b[0m\u001b[0;34m(\u001b[0m\u001b[0;34m'RB1905'\u001b[0m\u001b[0;34m,\u001b[0m\u001b[0;34m'2019-01-01'\u001b[0m\u001b[0;34m,\u001b[0m\u001b[0;34m'2019-01-30'\u001b[0m\u001b[0;34m,\u001b[0m \u001b[0;34m'5'\u001b[0m\u001b[0;34m)\u001b[0m\u001b[0;34m\u001b[0m\u001b[0m\n\u001b[0m",
      "\u001b[0;32m/Users/chenshuai/quantaxis/QUANTAXIS/QAFetch/QATdx.py\u001b[0m in \u001b[0;36mQA_fetch_get_future_min\u001b[0;34m(code, start, end, frequence, ip, port)\u001b[0m\n\u001b[1;32m   2502\u001b[0m     \u001b[0;32mglobal\u001b[0m \u001b[0mextension_market_list\u001b[0m\u001b[0;34m\u001b[0m\u001b[0m\n\u001b[1;32m   2503\u001b[0m     extension_market_list = QA_fetch_get_extensionmarket_list(\n\u001b[0;32m-> 2504\u001b[0;31m     ) if extension_market_list is None else extension_market_list\n\u001b[0m\u001b[1;32m   2505\u001b[0m \u001b[0;34m\u001b[0m\u001b[0m\n\u001b[1;32m   2506\u001b[0m     \u001b[0;32mif\u001b[0m \u001b[0mstr\u001b[0m\u001b[0;34m(\u001b[0m\u001b[0mfrequence\u001b[0m\u001b[0;34m)\u001b[0m \u001b[0;32min\u001b[0m \u001b[0;34m[\u001b[0m\u001b[0;34m'5'\u001b[0m\u001b[0;34m,\u001b[0m \u001b[0;34m'5m'\u001b[0m\u001b[0;34m,\u001b[0m \u001b[0;34m'5min'\u001b[0m\u001b[0;34m,\u001b[0m \u001b[0;34m'five'\u001b[0m\u001b[0;34m]\u001b[0m\u001b[0;34m:\u001b[0m\u001b[0;34m\u001b[0m\u001b[0m\n",
      "\u001b[0;32m/Users/chenshuai/quantaxis/QUANTAXIS/QAFetch/QATdx.py\u001b[0m in \u001b[0;36mQA_fetch_get_extensionmarket_list\u001b[0;34m(ip, port)\u001b[0m\n\u001b[1;32m   1513\u001b[0m             apix.get_instrument_info((int(num / 500) - i) * 500, 500))\n\u001b[1;32m   1514\u001b[0m             for i in range(int(num / 500) + 1)], axis=0, sort=False).set_index('code',\n\u001b[0;32m-> 1515\u001b[0;31m                                                                                drop=False)\n\u001b[0m\u001b[1;32m   1516\u001b[0m \u001b[0;34m\u001b[0m\u001b[0m\n\u001b[1;32m   1517\u001b[0m \u001b[0;34m\u001b[0m\u001b[0m\n",
      "\u001b[0;32m/Users/chenshuai/anaconda3/lib/python3.6/site-packages/pandas/core/frame.py\u001b[0m in \u001b[0;36mset_index\u001b[0;34m(self, keys, drop, append, inplace, verify_integrity)\u001b[0m\n\u001b[1;32m   4553\u001b[0m \u001b[0;34m\u001b[0m\u001b[0m\n\u001b[1;32m   4554\u001b[0m         \u001b[0;32mif\u001b[0m \u001b[0mmissing\u001b[0m\u001b[0;34m:\u001b[0m\u001b[0;34m\u001b[0m\u001b[0m\n\u001b[0;32m-> 4555\u001b[0;31m             \u001b[0;32mraise\u001b[0m \u001b[0mKeyError\u001b[0m\u001b[0;34m(\u001b[0m\u001b[0;34mf\"None of {missing} are in the columns\"\u001b[0m\u001b[0;34m)\u001b[0m\u001b[0;34m\u001b[0m\u001b[0m\n\u001b[0m\u001b[1;32m   4556\u001b[0m \u001b[0;34m\u001b[0m\u001b[0m\n\u001b[1;32m   4557\u001b[0m         \u001b[0;32mif\u001b[0m \u001b[0minplace\u001b[0m\u001b[0;34m:\u001b[0m\u001b[0;34m\u001b[0m\u001b[0m\n",
      "\u001b[0;31mKeyError\u001b[0m: \"None of ['code'] are in the columns\""
     ]
    }
   ],
   "source": [
    "QA.QAFetch.QATdx.QA_fetch_get_future_min('RB1905','2019-01-01','2019-01-30', '5')"
   ]
  },
  {
   "cell_type": "code",
   "execution_count": 55,
   "metadata": {},
   "outputs": [
    {
     "data": {
      "text/html": [
       "<div>\n",
       "<style scoped>\n",
       "    .dataframe tbody tr th:only-of-type {\n",
       "        vertical-align: middle;\n",
       "    }\n",
       "\n",
       "    .dataframe tbody tr th {\n",
       "        vertical-align: top;\n",
       "    }\n",
       "\n",
       "    .dataframe thead th {\n",
       "        text-align: right;\n",
       "    }\n",
       "</style>\n",
       "<table border=\"1\" class=\"dataframe\">\n",
       "  <thead>\n",
       "    <tr style=\"text-align: right;\">\n",
       "      <th></th>\n",
       "      <th>ts_code</th>\n",
       "      <th>trade_date</th>\n",
       "      <th>pre_close</th>\n",
       "      <th>pre_settle</th>\n",
       "      <th>open</th>\n",
       "      <th>high</th>\n",
       "      <th>low</th>\n",
       "      <th>close</th>\n",
       "      <th>settle</th>\n",
       "      <th>change1</th>\n",
       "      <th>change2</th>\n",
       "      <th>vol</th>\n",
       "      <th>amount</th>\n",
       "      <th>oi</th>\n",
       "      <th>oi_chg</th>\n",
       "    </tr>\n",
       "  </thead>\n",
       "  <tbody>\n",
       "  </tbody>\n",
       "</table>\n",
       "</div>"
      ],
      "text/plain": [
       "Empty DataFrame\n",
       "Columns: [ts_code, trade_date, pre_close, pre_settle, open, high, low, close, settle, change1, change2, vol, amount, oi, oi_chg]\n",
       "Index: []"
      ]
     },
     "execution_count": 55,
     "metadata": {},
     "output_type": "execute_result"
    }
   ],
   "source": [
    "pro.fut_daily(ts_code='ZC2109.CZCE', start_date='20210523', end_date='20210526')"
   ]
  },
  {
   "cell_type": "code",
   "execution_count": 56,
   "metadata": {
    "collapsed": true
   },
   "outputs": [],
   "source": [
    "import tushare as ts"
   ]
  },
  {
   "cell_type": "code",
   "execution_count": 21,
   "metadata": {
    "collapsed": true
   },
   "outputs": [],
   "source": [
    "ts.set_token('15cbb84b1fdd9a026aee178b4a1aae1543aaef4b4a08866f4f0c27f1')\n",
    "pro = ts.pro_api()"
   ]
  },
  {
   "cell_type": "code",
   "execution_count": 27,
   "metadata": {},
   "outputs": [
    {
     "ename": "Exception",
     "evalue": "抱歉，您每分钟最多访问该接口20次，权限的具体详情访问：https://tushare.pro/document/1?doc_id=108。",
     "output_type": "error",
     "traceback": [
      "\u001b[0;31m---------------------------------------------------------------------------\u001b[0m",
      "\u001b[0;31mException\u001b[0m                                 Traceback (most recent call last)",
      "\u001b[0;32m<ipython-input-27-105100c7c42b>\u001b[0m in \u001b[0;36m<module>\u001b[0;34m()\u001b[0m\n\u001b[0;32m----> 1\u001b[0;31m \u001b[0mpro\u001b[0m\u001b[0;34m.\u001b[0m\u001b[0mfut_daily\u001b[0m\u001b[0;34m(\u001b[0m\u001b[0mts_code\u001b[0m\u001b[0;34m=\u001b[0m\u001b[0;34m'ZC2109.CZCE'\u001b[0m\u001b[0;34m,\u001b[0m \u001b[0mstart_date\u001b[0m\u001b[0;34m=\u001b[0m\u001b[0;34m'20210523'\u001b[0m\u001b[0;34m,\u001b[0m \u001b[0mend_date\u001b[0m\u001b[0;34m=\u001b[0m\u001b[0;34m'20210526'\u001b[0m\u001b[0;34m)\u001b[0m\u001b[0;34m\u001b[0m\u001b[0m\n\u001b[0m",
      "\u001b[0;32m/Users/chenshuai/anaconda3/lib/python3.6/site-packages/tushare/pro/client.py\u001b[0m in \u001b[0;36mquery\u001b[0;34m(self, api_name, fields, **kwargs)\u001b[0m\n\u001b[1;32m     42\u001b[0m             \u001b[0mresult\u001b[0m \u001b[0;34m=\u001b[0m \u001b[0mjson\u001b[0m\u001b[0;34m.\u001b[0m\u001b[0mloads\u001b[0m\u001b[0;34m(\u001b[0m\u001b[0mres\u001b[0m\u001b[0;34m.\u001b[0m\u001b[0mtext\u001b[0m\u001b[0;34m)\u001b[0m\u001b[0;34m\u001b[0m\u001b[0m\n\u001b[1;32m     43\u001b[0m             \u001b[0;32mif\u001b[0m \u001b[0mresult\u001b[0m\u001b[0;34m[\u001b[0m\u001b[0;34m'code'\u001b[0m\u001b[0;34m]\u001b[0m \u001b[0;34m!=\u001b[0m \u001b[0;36m0\u001b[0m\u001b[0;34m:\u001b[0m\u001b[0;34m\u001b[0m\u001b[0m\n\u001b[0;32m---> 44\u001b[0;31m                 \u001b[0;32mraise\u001b[0m \u001b[0mException\u001b[0m\u001b[0;34m(\u001b[0m\u001b[0mresult\u001b[0m\u001b[0;34m[\u001b[0m\u001b[0;34m'msg'\u001b[0m\u001b[0;34m]\u001b[0m\u001b[0;34m)\u001b[0m\u001b[0;34m\u001b[0m\u001b[0m\n\u001b[0m\u001b[1;32m     45\u001b[0m             \u001b[0mdata\u001b[0m \u001b[0;34m=\u001b[0m \u001b[0mresult\u001b[0m\u001b[0;34m[\u001b[0m\u001b[0;34m'data'\u001b[0m\u001b[0;34m]\u001b[0m\u001b[0;34m\u001b[0m\u001b[0m\n\u001b[1;32m     46\u001b[0m             \u001b[0mcolumns\u001b[0m \u001b[0;34m=\u001b[0m \u001b[0mdata\u001b[0m\u001b[0;34m[\u001b[0m\u001b[0;34m'fields'\u001b[0m\u001b[0;34m]\u001b[0m\u001b[0;34m\u001b[0m\u001b[0m\n",
      "\u001b[0;31mException\u001b[0m: 抱歉，您每分钟最多访问该接口20次，权限的具体详情访问：https://tushare.pro/document/1?doc_id=108。"
     ]
    }
   ],
   "source": [
    "pro.fut_daily(ts_code='ZC2109.CZCE', start_date='20210523', end_date='20210526')"
   ]
  },
  {
   "cell_type": "code",
   "execution_count": 28,
   "metadata": {},
   "outputs": [
    {
     "ename": "ModuleNotFoundError",
     "evalue": "No module named 'xcsc_tushare'",
     "output_type": "error",
     "traceback": [
      "\u001b[0;31m---------------------------------------------------------------------------\u001b[0m",
      "\u001b[0;31mModuleNotFoundError\u001b[0m                       Traceback (most recent call last)",
      "\u001b[0;32m<ipython-input-28-18d229e049a4>\u001b[0m in \u001b[0;36m<module>\u001b[0;34m()\u001b[0m\n\u001b[0;32m----> 1\u001b[0;31m \u001b[0;32mimport\u001b[0m \u001b[0mxcsc_tushare\u001b[0m \u001b[0;32mas\u001b[0m \u001b[0mts\u001b[0m\u001b[0;34m\u001b[0m\u001b[0m\n\u001b[0m\u001b[1;32m      2\u001b[0m \u001b[0;34m\u001b[0m\u001b[0m\n\u001b[1;32m      3\u001b[0m \u001b[0mprint\u001b[0m\u001b[0;34m(\u001b[0m\u001b[0mts\u001b[0m\u001b[0;34m.\u001b[0m\u001b[0m__version__\u001b[0m\u001b[0;34m)\u001b[0m\u001b[0;34m\u001b[0m\u001b[0m\n",
      "\u001b[0;31mModuleNotFoundError\u001b[0m: No module named 'xcsc_tushare'"
     ]
    }
   ],
   "source": [
    "import xcsc_tushare as ts \n",
    "\n",
    "print(ts.__version__)"
   ]
  },
  {
   "cell_type": "code",
   "execution_count": 31,
   "metadata": {},
   "outputs": [
    {
     "ename": "ModuleNotFoundError",
     "evalue": "No module named 'xcsc_tushare'",
     "output_type": "error",
     "traceback": [
      "\u001b[0;31m---------------------------------------------------------------------------\u001b[0m",
      "\u001b[0;31mModuleNotFoundError\u001b[0m                       Traceback (most recent call last)",
      "\u001b[0;32m<ipython-input-31-3297059ff017>\u001b[0m in \u001b[0;36m<module>\u001b[0;34m()\u001b[0m\n\u001b[0;32m----> 1\u001b[0;31m \u001b[0;32mimport\u001b[0m \u001b[0mxcsc_tushare\u001b[0m \u001b[0;32mas\u001b[0m \u001b[0mts\u001b[0m\u001b[0;34m\u001b[0m\u001b[0m\n\u001b[0m",
      "\u001b[0;31mModuleNotFoundError\u001b[0m: No module named 'xcsc_tushare'"
     ]
    }
   ],
   "source": [
    "import xcsc_tushare as ts \n"
   ]
  },
  {
   "cell_type": "code",
   "execution_count": 43,
   "metadata": {},
   "outputs": [
    {
     "ename": "KeyError",
     "evalue": "\"None of ['code'] are in the columns\"",
     "output_type": "error",
     "traceback": [
      "\u001b[0;31m---------------------------------------------------------------------------\u001b[0m",
      "\u001b[0;31mKeyError\u001b[0m                                  Traceback (most recent call last)",
      "\u001b[0;32m<ipython-input-43-826806ec4d8b>\u001b[0m in \u001b[0;36m<module>\u001b[0;34m()\u001b[0m\n\u001b[0;32m----> 1\u001b[0;31m \u001b[0mQA\u001b[0m\u001b[0;34m.\u001b[0m\u001b[0mQAFetch\u001b[0m\u001b[0;34m.\u001b[0m\u001b[0mQATdx\u001b[0m\u001b[0;34m.\u001b[0m\u001b[0mQA_fetch_get_future_min\u001b[0m\u001b[0;34m(\u001b[0m\u001b[0;34m'RB1905'\u001b[0m\u001b[0;34m,\u001b[0m\u001b[0;34m'2019-01-01'\u001b[0m\u001b[0;34m,\u001b[0m\u001b[0;34m'2019-01-30'\u001b[0m\u001b[0;34m,\u001b[0m \u001b[0;34m'5'\u001b[0m\u001b[0;34m)\u001b[0m\u001b[0;34m\u001b[0m\u001b[0m\n\u001b[0m",
      "\u001b[0;32m/Users/chenshuai/quantaxis/QUANTAXIS/QAFetch/QATdx.py\u001b[0m in \u001b[0;36mQA_fetch_get_future_min\u001b[0;34m(code, start, end, frequence, ip, port)\u001b[0m\n\u001b[1;32m   2502\u001b[0m     \u001b[0;32mglobal\u001b[0m \u001b[0mextension_market_list\u001b[0m\u001b[0;34m\u001b[0m\u001b[0m\n\u001b[1;32m   2503\u001b[0m     extension_market_list = QA_fetch_get_extensionmarket_list(\n\u001b[0;32m-> 2504\u001b[0;31m     ) if extension_market_list is None else extension_market_list\n\u001b[0m\u001b[1;32m   2505\u001b[0m \u001b[0;34m\u001b[0m\u001b[0m\n\u001b[1;32m   2506\u001b[0m     \u001b[0;32mif\u001b[0m \u001b[0mstr\u001b[0m\u001b[0;34m(\u001b[0m\u001b[0mfrequence\u001b[0m\u001b[0;34m)\u001b[0m \u001b[0;32min\u001b[0m \u001b[0;34m[\u001b[0m\u001b[0;34m'5'\u001b[0m\u001b[0;34m,\u001b[0m \u001b[0;34m'5m'\u001b[0m\u001b[0;34m,\u001b[0m \u001b[0;34m'5min'\u001b[0m\u001b[0;34m,\u001b[0m \u001b[0;34m'five'\u001b[0m\u001b[0;34m]\u001b[0m\u001b[0;34m:\u001b[0m\u001b[0;34m\u001b[0m\u001b[0m\n",
      "\u001b[0;32m/Users/chenshuai/quantaxis/QUANTAXIS/QAFetch/QATdx.py\u001b[0m in \u001b[0;36mQA_fetch_get_extensionmarket_list\u001b[0;34m(ip, port)\u001b[0m\n\u001b[1;32m   1513\u001b[0m             apix.get_instrument_info((int(num / 500) - i) * 500, 500))\n\u001b[1;32m   1514\u001b[0m             for i in range(int(num / 500) + 1)], axis=0, sort=False).set_index('code',\n\u001b[0;32m-> 1515\u001b[0;31m                                                                                drop=False)\n\u001b[0m\u001b[1;32m   1516\u001b[0m \u001b[0;34m\u001b[0m\u001b[0m\n\u001b[1;32m   1517\u001b[0m \u001b[0;34m\u001b[0m\u001b[0m\n",
      "\u001b[0;32m/Users/chenshuai/anaconda3/lib/python3.6/site-packages/pandas/core/frame.py\u001b[0m in \u001b[0;36mset_index\u001b[0;34m(self, keys, drop, append, inplace, verify_integrity)\u001b[0m\n\u001b[1;32m   4553\u001b[0m \u001b[0;34m\u001b[0m\u001b[0m\n\u001b[1;32m   4554\u001b[0m         \u001b[0;32mif\u001b[0m \u001b[0mmissing\u001b[0m\u001b[0;34m:\u001b[0m\u001b[0;34m\u001b[0m\u001b[0m\n\u001b[0;32m-> 4555\u001b[0;31m             \u001b[0;32mraise\u001b[0m \u001b[0mKeyError\u001b[0m\u001b[0;34m(\u001b[0m\u001b[0;34mf\"None of {missing} are in the columns\"\u001b[0m\u001b[0;34m)\u001b[0m\u001b[0;34m\u001b[0m\u001b[0m\n\u001b[0m\u001b[1;32m   4556\u001b[0m \u001b[0;34m\u001b[0m\u001b[0m\n\u001b[1;32m   4557\u001b[0m         \u001b[0;32mif\u001b[0m \u001b[0minplace\u001b[0m\u001b[0;34m:\u001b[0m\u001b[0;34m\u001b[0m\u001b[0m\n",
      "\u001b[0;31mKeyError\u001b[0m: \"None of ['code'] are in the columns\""
     ]
    }
   ],
   "source": [
    "QA.QAFetch.QATdx.QA_fetch_get_future_min('RB1905','2019-01-01','2019-01-30', '5')"
   ]
  },
  {
   "cell_type": "code",
   "execution_count": 44,
   "metadata": {},
   "outputs": [
    {
     "ename": "ImportError",
     "evalue": "cannot import name 'TqAuth'",
     "output_type": "error",
     "traceback": [
      "\u001b[0;31m---------------------------------------------------------------------------\u001b[0m",
      "\u001b[0;31mImportError\u001b[0m                               Traceback (most recent call last)",
      "\u001b[0;32m<ipython-input-44-86ae348d9d35>\u001b[0m in \u001b[0;36m<module>\u001b[0;34m()\u001b[0m\n\u001b[0;32m----> 1\u001b[0;31m \u001b[0;32mfrom\u001b[0m \u001b[0mtqsdk\u001b[0m \u001b[0;32mimport\u001b[0m \u001b[0mTqApi\u001b[0m\u001b[0;34m,\u001b[0m \u001b[0mTqAuth\u001b[0m\u001b[0;34m\u001b[0m\u001b[0m\n\u001b[0m",
      "\u001b[0;31mImportError\u001b[0m: cannot import name 'TqAuth'"
     ]
    }
   ],
   "source": [
    "from tqsdk import TqApi, TqAuth"
   ]
  },
  {
   "cell_type": "code",
   "execution_count": 45,
   "metadata": {},
   "outputs": [
    {
     "ename": "ImportError",
     "evalue": "cannot import name 'TqAuth'",
     "output_type": "error",
     "traceback": [
      "\u001b[0;31m---------------------------------------------------------------------------\u001b[0m",
      "\u001b[0;31mImportError\u001b[0m                               Traceback (most recent call last)",
      "\u001b[0;32m<ipython-input-45-86ae348d9d35>\u001b[0m in \u001b[0;36m<module>\u001b[0;34m()\u001b[0m\n\u001b[0;32m----> 1\u001b[0;31m \u001b[0;32mfrom\u001b[0m \u001b[0mtqsdk\u001b[0m \u001b[0;32mimport\u001b[0m \u001b[0mTqApi\u001b[0m\u001b[0;34m,\u001b[0m \u001b[0mTqAuth\u001b[0m\u001b[0;34m\u001b[0m\u001b[0m\n\u001b[0m",
      "\u001b[0;31mImportError\u001b[0m: cannot import name 'TqAuth'"
     ]
    }
   ],
   "source": [
    "from tqsdk import TqApi, TqAuth"
   ]
  },
  {
   "cell_type": "code",
   "execution_count": 41,
   "metadata": {},
   "outputs": [
    {
     "ename": "ImportError",
     "evalue": "cannot import name 'TqAuth'",
     "output_type": "error",
     "traceback": [
      "\u001b[0;31m---------------------------------------------------------------------------\u001b[0m",
      "\u001b[0;31mImportError\u001b[0m                               Traceback (most recent call last)",
      "\u001b[0;32m<ipython-input-41-d574f2fe3671>\u001b[0m in \u001b[0;36m<module>\u001b[0;34m()\u001b[0m\n\u001b[0;32m----> 1\u001b[0;31m \u001b[0;32mfrom\u001b[0m \u001b[0mtqsdk\u001b[0m \u001b[0;32mimport\u001b[0m \u001b[0mTqApi\u001b[0m\u001b[0;34m,\u001b[0m \u001b[0mTqAuth\u001b[0m\u001b[0;34m\u001b[0m\u001b[0m\n\u001b[0m\u001b[1;32m      2\u001b[0m \u001b[0mapi\u001b[0m \u001b[0;34m=\u001b[0m \u001b[0mTqApi\u001b[0m\u001b[0;34m(\u001b[0m\u001b[0mauth\u001b[0m\u001b[0;34m=\u001b[0m\u001b[0mTqAuth\u001b[0m\u001b[0;34m(\u001b[0m\u001b[0;34m\"aaa121914\"\u001b[0m\u001b[0;34m,\u001b[0m \u001b[0;34m\"79248860\"\u001b[0m\u001b[0;34m)\u001b[0m\u001b[0;34m)\u001b[0m\u001b[0;34m\u001b[0m\u001b[0m\n\u001b[1;32m      3\u001b[0m \u001b[0mquote\u001b[0m \u001b[0;34m=\u001b[0m \u001b[0mapi\u001b[0m\u001b[0;34m.\u001b[0m\u001b[0mget_quote\u001b[0m\u001b[0;34m(\u001b[0m\u001b[0;34m\"SHFE.ni2010\"\u001b[0m\u001b[0;34m)\u001b[0m\u001b[0;34m\u001b[0m\u001b[0m\n\u001b[1;32m      4\u001b[0m \u001b[0mprint\u001b[0m \u001b[0;34m(\u001b[0m\u001b[0mquote\u001b[0m\u001b[0;34m.\u001b[0m\u001b[0mlast_price\u001b[0m\u001b[0;34m,\u001b[0m \u001b[0mquote\u001b[0m\u001b[0;34m.\u001b[0m\u001b[0mvolume\u001b[0m\u001b[0;34m)\u001b[0m\u001b[0;34m\u001b[0m\u001b[0m\n",
      "\u001b[0;31mImportError\u001b[0m: cannot import name 'TqAuth'"
     ]
    }
   ],
   "source": [
    "from tqsdk import TqApi, TqAuth\n",
    "api = TqApi(auth=TqAuth(\"aaa121914\", \"79248860\"))\n",
    "quote = api.get_quote(\"SHFE.ni2010\")\n",
    "print (quote.last_price, quote.volume)\n"
   ]
  },
  {
   "cell_type": "code",
   "execution_count": null,
   "metadata": {
    "collapsed": true
   },
   "outputs": [],
   "source": []
  }
 ],
 "metadata": {
  "kernelspec": {
   "display_name": "Python 3",
   "language": "python",
   "name": "python3"
  },
  "language_info": {
   "codemirror_mode": {
    "name": "ipython",
    "version": 3
   },
   "file_extension": ".py",
   "mimetype": "text/x-python",
   "name": "python",
   "nbconvert_exporter": "python",
   "pygments_lexer": "ipython3",
   "version": "3.6.1"
  }
 },
 "nbformat": 4,
 "nbformat_minor": 2
}
