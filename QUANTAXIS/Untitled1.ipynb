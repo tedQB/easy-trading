{
 "cells": [
  {
   "cell_type": "code",
   "execution_count": 1,
   "metadata": {
    "collapsed": true
   },
   "outputs": [],
   "source": [
    "import QUANTAXIS as QA"
   ]
  },
  {
   "cell_type": "code",
   "execution_count": 5,
   "metadata": {},
   "outputs": [
    {
     "ename": "NameError",
     "evalue": "name 'QA' is not defined",
     "output_type": "error",
     "traceback": [
      "\u001b[0;31m---------------------------------------------------------------------------\u001b[0m",
      "\u001b[0;31mNameError\u001b[0m                                 Traceback (most recent call last)",
      "\u001b[0;32m<ipython-input-5-2ab4a29d9472>\u001b[0m in \u001b[0;36m<module>\u001b[0;34m()\u001b[0m\n\u001b[0;32m----> 1\u001b[0;31m \u001b[0mQA\u001b[0m\u001b[0;34m.\u001b[0m\u001b[0mQAFetch\u001b[0m\u001b[0;34m.\u001b[0m\u001b[0mQATdx\u001b[0m\u001b[0;34m.\u001b[0m\u001b[0mQA_fetch_get_future_day\u001b[0m\u001b[0;34m(\u001b[0m\u001b[0;34m'I2109'\u001b[0m\u001b[0;34m,\u001b[0m\u001b[0;34m'2021-05-23'\u001b[0m\u001b[0;34m,\u001b[0m\u001b[0;34m'2021-05-25'\u001b[0m\u001b[0;34m)\u001b[0m\u001b[0;34m\u001b[0m\u001b[0m\n\u001b[0m",
      "\u001b[0;31mNameError\u001b[0m: name 'QA' is not defined"
     ]
    }
   ],
   "source": [
    " QA.QAFetch.QATdx.QA_fetch_get_future_day('I2109','2021-05-23','2021-05-25') "
   ]
  },
  {
   "cell_type": "code",
   "execution_count": 3,
   "metadata": {},
   "outputs": [
    {
     "ename": "NameError",
     "evalue": "name 'QA' is not defined",
     "output_type": "error",
     "traceback": [
      "\u001b[0;31m---------------------------------------------------------------------------\u001b[0m",
      "\u001b[0;31mNameError\u001b[0m                                 Traceback (most recent call last)",
      "\u001b[0;32m<ipython-input-3-2ab4a29d9472>\u001b[0m in \u001b[0;36m<module>\u001b[0;34m()\u001b[0m\n\u001b[0;32m----> 1\u001b[0;31m \u001b[0mQA\u001b[0m\u001b[0;34m.\u001b[0m\u001b[0mQAFetch\u001b[0m\u001b[0;34m.\u001b[0m\u001b[0mQATdx\u001b[0m\u001b[0;34m.\u001b[0m\u001b[0mQA_fetch_get_future_day\u001b[0m\u001b[0;34m(\u001b[0m\u001b[0;34m'I2109'\u001b[0m\u001b[0;34m,\u001b[0m\u001b[0;34m'2021-05-23'\u001b[0m\u001b[0;34m,\u001b[0m\u001b[0;34m'2021-05-25'\u001b[0m\u001b[0;34m)\u001b[0m\u001b[0;34m\u001b[0m\u001b[0m\n\u001b[0m",
      "\u001b[0;31mNameError\u001b[0m: name 'QA' is not defined"
     ]
    }
   ],
   "source": [
    " QA.QAFetch.QATdx.QA_fetch_get_future_day('I2109','2021-05-23','2021-05-25') \n"
   ]
  },
  {
   "cell_type": "code",
   "execution_count": 4,
   "metadata": {},
   "outputs": [
    {
     "ename": "NameError",
     "evalue": "name 'QA' is not defined",
     "output_type": "error",
     "traceback": [
      "\u001b[0;31m---------------------------------------------------------------------------\u001b[0m",
      "\u001b[0;31mNameError\u001b[0m                                 Traceback (most recent call last)",
      "\u001b[0;32m<ipython-input-4-2ab4a29d9472>\u001b[0m in \u001b[0;36m<module>\u001b[0;34m()\u001b[0m\n\u001b[0;32m----> 1\u001b[0;31m \u001b[0mQA\u001b[0m\u001b[0;34m.\u001b[0m\u001b[0mQAFetch\u001b[0m\u001b[0;34m.\u001b[0m\u001b[0mQATdx\u001b[0m\u001b[0;34m.\u001b[0m\u001b[0mQA_fetch_get_future_day\u001b[0m\u001b[0;34m(\u001b[0m\u001b[0;34m'I2109'\u001b[0m\u001b[0;34m,\u001b[0m\u001b[0;34m'2021-05-23'\u001b[0m\u001b[0;34m,\u001b[0m\u001b[0;34m'2021-05-25'\u001b[0m\u001b[0;34m)\u001b[0m\u001b[0;34m\u001b[0m\u001b[0m\n\u001b[0m",
      "\u001b[0;31mNameError\u001b[0m: name 'QA' is not defined"
     ]
    }
   ],
   "source": [
    " QA.QAFetch.QATdx.QA_fetch_get_future_day('I2109','2021-05-23','2021-05-25') \n"
   ]
  },
  {
   "cell_type": "code",
   "execution_count": 6,
   "metadata": {
    "collapsed": true
   },
   "outputs": [],
   "source": [
    "import QUANTAXIS as QA"
   ]
  },
  {
   "cell_type": "code",
   "execution_count": 7,
   "metadata": {},
   "outputs": [
    {
     "name": "stderr",
     "output_type": "stream",
     "text": [
      "QUANTAXIS>> Selecting the Best Server IP of TDX\n"
     ]
    },
    {
     "name": "stdout",
     "output_type": "stream",
     "text": [
      "USING DEFAULT STOCK IP\n",
      "USING DEFAULT FUTURE IP\n"
     ]
    },
    {
     "name": "stderr",
     "output_type": "stream",
     "text": [
      "QUANTAXIS>> === The BEST SERVER ===\n",
      " stock_ip 218.75.126.9 future_ip 59.175.238.38\n"
     ]
    },
    {
     "ename": "KeyError",
     "evalue": "\"None of ['code'] are in the columns\"",
     "output_type": "error",
     "traceback": [
      "\u001b[0;31m---------------------------------------------------------------------------\u001b[0m",
      "\u001b[0;31mKeyError\u001b[0m                                  Traceback (most recent call last)",
      "\u001b[0;32m<ipython-input-7-2ab4a29d9472>\u001b[0m in \u001b[0;36m<module>\u001b[0;34m()\u001b[0m\n\u001b[0;32m----> 1\u001b[0;31m \u001b[0mQA\u001b[0m\u001b[0;34m.\u001b[0m\u001b[0mQAFetch\u001b[0m\u001b[0;34m.\u001b[0m\u001b[0mQATdx\u001b[0m\u001b[0;34m.\u001b[0m\u001b[0mQA_fetch_get_future_day\u001b[0m\u001b[0;34m(\u001b[0m\u001b[0;34m'I2109'\u001b[0m\u001b[0;34m,\u001b[0m\u001b[0;34m'2021-05-23'\u001b[0m\u001b[0;34m,\u001b[0m\u001b[0;34m'2021-05-25'\u001b[0m\u001b[0;34m)\u001b[0m\u001b[0;34m\u001b[0m\u001b[0m\n\u001b[0m",
      "\u001b[0;32m/Users/chenshuai/quantaxis/QUANTAXIS/QAFetch/QATdx.py\u001b[0m in \u001b[0;36mQA_fetch_get_future_day\u001b[0;34m(code, start_date, end_date, frequence, ip, port)\u001b[0m\n\u001b[1;32m   2455\u001b[0m     \u001b[0;32mglobal\u001b[0m \u001b[0mextension_market_list\u001b[0m\u001b[0;34m\u001b[0m\u001b[0m\n\u001b[1;32m   2456\u001b[0m     extension_market_list = QA_fetch_get_extensionmarket_list(\n\u001b[0;32m-> 2457\u001b[0;31m     ) if extension_market_list is None else extension_market_list\n\u001b[0m\u001b[1;32m   2458\u001b[0m \u001b[0;34m\u001b[0m\u001b[0m\n\u001b[1;32m   2459\u001b[0m     \u001b[0;32mwith\u001b[0m \u001b[0mapix\u001b[0m\u001b[0;34m.\u001b[0m\u001b[0mconnect\u001b[0m\u001b[0;34m(\u001b[0m\u001b[0mip\u001b[0m\u001b[0;34m,\u001b[0m \u001b[0mport\u001b[0m\u001b[0;34m)\u001b[0m\u001b[0;34m:\u001b[0m\u001b[0;34m\u001b[0m\u001b[0m\n",
      "\u001b[0;32m/Users/chenshuai/quantaxis/QUANTAXIS/QAFetch/QATdx.py\u001b[0m in \u001b[0;36mQA_fetch_get_extensionmarket_list\u001b[0;34m(ip, port)\u001b[0m\n\u001b[1;32m   1513\u001b[0m             apix.get_instrument_info((int(num / 500) - i) * 500, 500))\n\u001b[1;32m   1514\u001b[0m             for i in range(int(num / 500) + 1)], axis=0, sort=False).set_index('code',\n\u001b[0;32m-> 1515\u001b[0;31m                                                                                drop=False)\n\u001b[0m\u001b[1;32m   1516\u001b[0m \u001b[0;34m\u001b[0m\u001b[0m\n\u001b[1;32m   1517\u001b[0m \u001b[0;34m\u001b[0m\u001b[0m\n",
      "\u001b[0;32m/Users/chenshuai/anaconda3/lib/python3.6/site-packages/pandas/core/frame.py\u001b[0m in \u001b[0;36mset_index\u001b[0;34m(self, keys, drop, append, inplace, verify_integrity)\u001b[0m\n\u001b[1;32m   4553\u001b[0m \u001b[0;34m\u001b[0m\u001b[0m\n\u001b[1;32m   4554\u001b[0m         \u001b[0;32mif\u001b[0m \u001b[0mmissing\u001b[0m\u001b[0;34m:\u001b[0m\u001b[0;34m\u001b[0m\u001b[0m\n\u001b[0;32m-> 4555\u001b[0;31m             \u001b[0;32mraise\u001b[0m \u001b[0mKeyError\u001b[0m\u001b[0;34m(\u001b[0m\u001b[0;34mf\"None of {missing} are in the columns\"\u001b[0m\u001b[0;34m)\u001b[0m\u001b[0;34m\u001b[0m\u001b[0m\n\u001b[0m\u001b[1;32m   4556\u001b[0m \u001b[0;34m\u001b[0m\u001b[0m\n\u001b[1;32m   4557\u001b[0m         \u001b[0;32mif\u001b[0m \u001b[0minplace\u001b[0m\u001b[0;34m:\u001b[0m\u001b[0;34m\u001b[0m\u001b[0m\n",
      "\u001b[0;31mKeyError\u001b[0m: \"None of ['code'] are in the columns\""
     ]
    }
   ],
   "source": [
    "QA.QAFetch.QATdx.QA_fetch_get_future_day('I2109','2021-05-23','2021-05-25') "
   ]
  },
  {
   "cell_type": "code",
   "execution_count": 8,
   "metadata": {},
   "outputs": [
    {
     "data": {
      "text/plain": [
       "<function QUANTAXIS.QAFetch.QA_fetch_get_future_transaction_realtime>"
      ]
     },
     "execution_count": 8,
     "metadata": {},
     "output_type": "execute_result"
    }
   ],
   "source": [
    "QA.QA_fetch_get_future_transaction_realtime"
   ]
  },
  {
   "cell_type": "code",
   "execution_count": 9,
   "metadata": {},
   "outputs": [
    {
     "ename": "NameError",
     "evalue": "name 'QA_fetch_get_future_transaction_realtime' is not defined",
     "output_type": "error",
     "traceback": [
      "\u001b[0;31m---------------------------------------------------------------------------\u001b[0m",
      "\u001b[0;31mNameError\u001b[0m                                 Traceback (most recent call last)",
      "\u001b[0;32m<ipython-input-9-e53b9a85099d>\u001b[0m in \u001b[0;36m<module>\u001b[0;34m()\u001b[0m\n\u001b[0;32m----> 1\u001b[0;31m \u001b[0mQA_fetch_get_future_transaction_realtime\u001b[0m\u001b[0;34m(\u001b[0m\u001b[0;34m'I2109'\u001b[0m\u001b[0;34m)\u001b[0m\u001b[0;34m\u001b[0m\u001b[0m\n\u001b[0m",
      "\u001b[0;31mNameError\u001b[0m: name 'QA_fetch_get_future_transaction_realtime' is not defined"
     ]
    }
   ],
   "source": [
    "QA_fetch_get_future_transaction_realtime('I2109')"
   ]
  },
  {
   "cell_type": "code",
   "execution_count": 10,
   "metadata": {},
   "outputs": [
    {
     "ename": "TypeError",
     "evalue": "QA_fetch_get_future_transaction_realtime() missing 1 required positional argument: 'code'",
     "output_type": "error",
     "traceback": [
      "\u001b[0;31m---------------------------------------------------------------------------\u001b[0m",
      "\u001b[0;31mTypeError\u001b[0m                                 Traceback (most recent call last)",
      "\u001b[0;32m<ipython-input-10-446bd79eec5b>\u001b[0m in \u001b[0;36m<module>\u001b[0;34m()\u001b[0m\n\u001b[0;32m----> 1\u001b[0;31m \u001b[0mQA\u001b[0m\u001b[0;34m.\u001b[0m\u001b[0mQA_fetch_get_future_transaction_realtime\u001b[0m\u001b[0;34m(\u001b[0m\u001b[0;34m'I2109'\u001b[0m\u001b[0;34m)\u001b[0m\u001b[0;34m\u001b[0m\u001b[0m\n\u001b[0m",
      "\u001b[0;31mTypeError\u001b[0m: QA_fetch_get_future_transaction_realtime() missing 1 required positional argument: 'code'"
     ]
    }
   ],
   "source": [
    "QA.QA_fetch_get_future_transaction_realtime('I2109')\n"
   ]
  },
  {
   "cell_type": "code",
   "execution_count": 11,
   "metadata": {},
   "outputs": [
    {
     "ename": "TypeError",
     "evalue": "QA_fetch_get_future_transaction_realtime() takes 2 positional arguments but 3 were given",
     "output_type": "error",
     "traceback": [
      "\u001b[0;31m---------------------------------------------------------------------------\u001b[0m",
      "\u001b[0;31mTypeError\u001b[0m                                 Traceback (most recent call last)",
      "\u001b[0;32m<ipython-input-11-92f567ac4574>\u001b[0m in \u001b[0;36m<module>\u001b[0;34m()\u001b[0m\n\u001b[0;32m----> 1\u001b[0;31m \u001b[0mQA\u001b[0m\u001b[0;34m.\u001b[0m\u001b[0mQA_fetch_get_future_transaction_realtime\u001b[0m\u001b[0;34m(\u001b[0m\u001b[0;34m'000001'\u001b[0m\u001b[0;34m,\u001b[0m \u001b[0;34m'2017-07-03'\u001b[0m\u001b[0;34m,\u001b[0m \u001b[0;34m'2017-07-10'\u001b[0m\u001b[0;34m)\u001b[0m\u001b[0;34m\u001b[0m\u001b[0m\n\u001b[0m",
      "\u001b[0;31mTypeError\u001b[0m: QA_fetch_get_future_transaction_realtime() takes 2 positional arguments but 3 were given"
     ]
    }
   ],
   "source": [
    "QA.QA_fetch_get_future_transaction_realtime('000001', '2017-07-03', '2017-07-10')"
   ]
  },
  {
   "cell_type": "code",
   "execution_count": 12,
   "metadata": {},
   "outputs": [
    {
     "ename": "TypeError",
     "evalue": "QA_fetch_get_future_transaction_realtime() missing 1 required positional argument: 'code'",
     "output_type": "error",
     "traceback": [
      "\u001b[0;31m---------------------------------------------------------------------------\u001b[0m",
      "\u001b[0;31mTypeError\u001b[0m                                 Traceback (most recent call last)",
      "\u001b[0;32m<ipython-input-12-2bd425755f59>\u001b[0m in \u001b[0;36m<module>\u001b[0;34m()\u001b[0m\n\u001b[0;32m----> 1\u001b[0;31m \u001b[0mQA\u001b[0m\u001b[0;34m.\u001b[0m\u001b[0mQA_fetch_get_future_transaction_realtime\u001b[0m\u001b[0;34m(\u001b[0m\u001b[0;34m'000001'\u001b[0m\u001b[0;34m)\u001b[0m\u001b[0;34m\u001b[0m\u001b[0m\n\u001b[0m",
      "\u001b[0;31mTypeError\u001b[0m: QA_fetch_get_future_transaction_realtime() missing 1 required positional argument: 'code'"
     ]
    }
   ],
   "source": [
    "QA.QA_fetch_get_future_transaction_realtime('000001')"
   ]
  },
  {
   "cell_type": "code",
   "execution_count": 13,
   "metadata": {},
   "outputs": [
    {
     "ename": "KeyError",
     "evalue": "\"None of ['code'] are in the columns\"",
     "output_type": "error",
     "traceback": [
      "\u001b[0;31m---------------------------------------------------------------------------\u001b[0m",
      "\u001b[0;31mKeyError\u001b[0m                                  Traceback (most recent call last)",
      "\u001b[0;32m<ipython-input-13-f94c8c3eba3f>\u001b[0m in \u001b[0;36m<module>\u001b[0;34m()\u001b[0m\n\u001b[0;32m----> 1\u001b[0;31m \u001b[0mQA\u001b[0m\u001b[0;34m.\u001b[0m\u001b[0mQAFetch\u001b[0m\u001b[0;34m.\u001b[0m\u001b[0mQATdx\u001b[0m\u001b[0;34m.\u001b[0m\u001b[0mQA_fetch_get_future_day\u001b[0m\u001b[0;34m(\u001b[0m\u001b[0;34m'I2109'\u001b[0m\u001b[0;34m,\u001b[0m\u001b[0;34m'2021-05-23'\u001b[0m\u001b[0;34m,\u001b[0m\u001b[0;34m'2021-05-25'\u001b[0m\u001b[0;34m)\u001b[0m\u001b[0;34m\u001b[0m\u001b[0m\n\u001b[0m",
      "\u001b[0;32m/Users/chenshuai/quantaxis/QUANTAXIS/QAFetch/QATdx.py\u001b[0m in \u001b[0;36mQA_fetch_get_future_day\u001b[0;34m(code, start_date, end_date, frequence, ip, port)\u001b[0m\n\u001b[1;32m   2455\u001b[0m     \u001b[0;32mglobal\u001b[0m \u001b[0mextension_market_list\u001b[0m\u001b[0;34m\u001b[0m\u001b[0m\n\u001b[1;32m   2456\u001b[0m     extension_market_list = QA_fetch_get_extensionmarket_list(\n\u001b[0;32m-> 2457\u001b[0;31m     ) if extension_market_list is None else extension_market_list\n\u001b[0m\u001b[1;32m   2458\u001b[0m \u001b[0;34m\u001b[0m\u001b[0m\n\u001b[1;32m   2459\u001b[0m     \u001b[0;32mwith\u001b[0m \u001b[0mapix\u001b[0m\u001b[0;34m.\u001b[0m\u001b[0mconnect\u001b[0m\u001b[0;34m(\u001b[0m\u001b[0mip\u001b[0m\u001b[0;34m,\u001b[0m \u001b[0mport\u001b[0m\u001b[0;34m)\u001b[0m\u001b[0;34m:\u001b[0m\u001b[0;34m\u001b[0m\u001b[0m\n",
      "\u001b[0;32m/Users/chenshuai/quantaxis/QUANTAXIS/QAFetch/QATdx.py\u001b[0m in \u001b[0;36mQA_fetch_get_extensionmarket_list\u001b[0;34m(ip, port)\u001b[0m\n\u001b[1;32m   1513\u001b[0m             apix.get_instrument_info((int(num / 500) - i) * 500, 500))\n\u001b[1;32m   1514\u001b[0m             for i in range(int(num / 500) + 1)], axis=0, sort=False).set_index('code',\n\u001b[0;32m-> 1515\u001b[0;31m                                                                                drop=False)\n\u001b[0m\u001b[1;32m   1516\u001b[0m \u001b[0;34m\u001b[0m\u001b[0m\n\u001b[1;32m   1517\u001b[0m \u001b[0;34m\u001b[0m\u001b[0m\n",
      "\u001b[0;32m/Users/chenshuai/anaconda3/lib/python3.6/site-packages/pandas/core/frame.py\u001b[0m in \u001b[0;36mset_index\u001b[0;34m(self, keys, drop, append, inplace, verify_integrity)\u001b[0m\n\u001b[1;32m   4553\u001b[0m \u001b[0;34m\u001b[0m\u001b[0m\n\u001b[1;32m   4554\u001b[0m         \u001b[0;32mif\u001b[0m \u001b[0mmissing\u001b[0m\u001b[0;34m:\u001b[0m\u001b[0;34m\u001b[0m\u001b[0m\n\u001b[0;32m-> 4555\u001b[0;31m             \u001b[0;32mraise\u001b[0m \u001b[0mKeyError\u001b[0m\u001b[0;34m(\u001b[0m\u001b[0;34mf\"None of {missing} are in the columns\"\u001b[0m\u001b[0;34m)\u001b[0m\u001b[0;34m\u001b[0m\u001b[0m\n\u001b[0m\u001b[1;32m   4556\u001b[0m \u001b[0;34m\u001b[0m\u001b[0m\n\u001b[1;32m   4557\u001b[0m         \u001b[0;32mif\u001b[0m \u001b[0minplace\u001b[0m\u001b[0;34m:\u001b[0m\u001b[0;34m\u001b[0m\u001b[0m\n",
      "\u001b[0;31mKeyError\u001b[0m: \"None of ['code'] are in the columns\""
     ]
    }
   ],
   "source": [
    "QA.QAFetch.QATdx.QA_fetch_get_future_day('I2109','2021-05-23','2021-05-25')"
   ]
  },
  {
   "cell_type": "code",
   "execution_count": null,
   "metadata": {
    "collapsed": true
   },
   "outputs": [],
   "source": []
  }
 ],
 "metadata": {
  "kernelspec": {
   "display_name": "Python 3",
   "language": "python",
   "name": "python3"
  },
  "language_info": {
   "codemirror_mode": {
    "name": "ipython",
    "version": 3
   },
   "file_extension": ".py",
   "mimetype": "text/x-python",
   "name": "python",
   "nbconvert_exporter": "python",
   "pygments_lexer": "ipython3",
   "version": "3.6.1"
  }
 },
 "nbformat": 4,
 "nbformat_minor": 2
}
